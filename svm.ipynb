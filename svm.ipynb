{
 "cells": [
  {
   "cell_type": "code",
   "execution_count": 97,
   "metadata": {},
   "outputs": [],
   "source": [
    "import cvxopt\n",
    "import matplotlib.pyplot as plt\n",
    "import numpy as np\n",
    "import sklearn.datasets\n",
    "import sklearn.metrics"
   ]
  },
  {
   "cell_type": "markdown",
   "metadata": {},
   "source": [
    "Import the dataset files:"
   ]
  },
  {
   "cell_type": "code",
   "execution_count": 98,
   "metadata": {},
   "outputs": [],
   "source": [
    "X_train, y_train = sklearn.datasets.load_svmlight_file('./dataset/satimage.scale.tr')\n",
    "X_val, y_val = sklearn.datasets.load_svmlight_file('./dataset/satimage.scale.val')\n",
    "X_test, y_test = sklearn.datasets.load_svmlight_file('./dataset/satimage.scale.t')"
   ]
  },
  {
   "cell_type": "markdown",
   "metadata": {},
   "source": [
    "Convert sparse matrices to NumPy arrays:"
   ]
  },
  {
   "cell_type": "code",
   "execution_count": 99,
   "metadata": {},
   "outputs": [],
   "source": [
    "X_train = np.asarray(X_train.todense())\n",
    "X_val = np.asarray(X_val.todense())\n",
    "X_test = np.asarray(X_test.todense())"
   ]
  },
  {
   "cell_type": "markdown",
   "metadata": {},
   "source": [
    "Only keep data points that belong to class 4 or 6:"
   ]
  },
  {
   "cell_type": "code",
   "execution_count": 100,
   "metadata": {},
   "outputs": [],
   "source": [
    "def seperate_dataset(X, y):\n",
    "    X_new = X[(y == 4) | (y == 6)]\n",
    "    y_new = y[(y == 4) | (y == 6)]\n",
    "    y_new[y_new == 4] = -1\n",
    "    y_new[y_new == 6] = 1\n",
    "    return X_new, y_new\n",
    "\n",
    "X_train, y_train = seperate_dataset(X_train, y_train)\n",
    "X_val, y_val = seperate_dataset(X_val, y_val)\n",
    "X_test, y_test = seperate_dataset(X_test, y_test)"
   ]
  },
  {
   "cell_type": "code",
   "execution_count": 101,
   "metadata": {},
   "outputs": [],
   "source": [
    "class SoftSVM:\n",
    "    def __init__(self, C):\n",
    "        self._C = C\n",
    "        self._w = None\n",
    "        self._b = None\n",
    "\n",
    "    def train(self, X_train, y_train):\n",
    "        n = X_train.shape[0]\n",
    "\n",
    "        K = (y_train.reshape(-1, 1) * X_train)\n",
    "        coeffs = K @ K.T\n",
    "\n",
    "        P = cvxopt.matrix(coeffs)\n",
    "        q = cvxopt.matrix(-1 * np.ones(n))\n",
    "        G = cvxopt.matrix(\n",
    "            np.concatenate((-1 * np.identity(n), np.identity(n)), axis=0))\n",
    "        h = cvxopt.matrix(\n",
    "            np.concatenate((-1 * np.zeros(n), self._C * np.ones(n)), axis=0))\n",
    "        A = cvxopt.matrix(1.0 * y_train, (1, n))\n",
    "        b = cvxopt.matrix(0.0)\n",
    "\n",
    "        cvxopt.solvers.options['show_progress'] = False\n",
    "        solution = cvxopt.solvers.qp(P, q, G, h, A, b)\n",
    "\n",
    "        alpha = np.ravel(solution['x']).reshape(-1, 1)\n",
    "\n",
    "        S = np.where((alpha > 1e-10) & (alpha <= self._C))[0]\n",
    "        self._w = K.T[:, S] @ alpha[S]\n",
    "\n",
    "        M = np.where((alpha > 1e-10) & (alpha < self._C))[0]\n",
    "        self._b = np.mean(y_train[M] - X_train[M, :] @ self._w)\n",
    "\n",
    "    def predict(self, X):\n",
    "        y_pred = np.sign(X @ self._w + self._b)\n",
    "        y_pred[y_pred == 0] = 1\n",
    "        return y_pred.squeeze()\n",
    "\n"
   ]
  },
  {
   "cell_type": "markdown",
   "metadata": {},
   "source": [
    "Instantiate SVM model and train it on training data:"
   ]
  },
  {
   "cell_type": "code",
   "execution_count": 102,
   "metadata": {},
   "outputs": [],
   "source": [
    "model = SoftSVM(C=1)\n",
    "model.train(X_train, y_train)"
   ]
  },
  {
   "cell_type": "markdown",
   "metadata": {},
   "source": [
    "Express model's performance in terms of confusion matrix and balanced accuracy using test data:"
   ]
  },
  {
   "cell_type": "code",
   "execution_count": 103,
   "metadata": {},
   "outputs": [
    {
     "name": "stdout",
     "output_type": "stream",
     "text": [
      "Accuracy          = 0.818\n",
      "Balanced Accuracy = 0.825\n"
     ]
    },
    {
     "data": {
      "image/png": "[encoded data removed]",
      "text/plain": [
       "<Figure size 640x480 with 2 Axes>"
      ]
     },
     "metadata": {},
     "output_type": "display_data"
    }
   ],
   "source": [
    "y_pred = model.predict(X_test)\n",
    "\n",
    "acc = sklearn.metrics.accuracy_score(y_test, y_pred)\n",
    "bacc = sklearn.metrics.balanced_accuracy_score(y_test, y_pred)\n",
    "print(f'Accuracy          = {acc:.3f}')\n",
    "print(f'Balanced Accuracy = {bacc:.3f}')\n",
    "\n",
    "cm = sklearn.metrics.confusion_matrix(y_test, y_pred)\n",
    "sklearn.metrics.ConfusionMatrixDisplay(confusion_matrix=cm).plot()\n",
    "plt.show()"
   ]
  }
 ],
 "metadata": {
  "kernelspec": {
   "display_name": "base",
   "language": "python",
   "name": "python3"
  },
  "language_info": {
   "codemirror_mode": {
    "name": "ipython",
    "version": 3
   },
   "file_extension": ".py",
   "mimetype": "text/x-python",
   "name": "python",
   "nbconvert_exporter": "python",
   "pygments_lexer": "ipython3",
   "version": "3.11.5"
  }
 },
 "nbformat": 4,
 "nbformat_minor": 2
}
