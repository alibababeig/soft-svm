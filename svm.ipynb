{
 "cells": [
  {
   "cell_type": "code",
   "execution_count": 10,
   "metadata": {},
   "outputs": [],
   "source": [
    "import numpy as np\n",
    "import sklearn.datasets\n",
    "import cvxopt"
   ]
  },
  {
   "cell_type": "markdown",
   "metadata": {},
   "source": [
    "Import the dataset files:"
   ]
  },
  {
   "cell_type": "code",
   "execution_count": 11,
   "metadata": {},
   "outputs": [],
   "source": [
    "x_train, y_train = sklearn.datasets.load_svmlight_file('./dataset/satimage.scale.tr')\n",
    "x_val, y_val = sklearn.datasets.load_svmlight_file('./dataset/satimage.scale.val')\n",
    "x_test, test_y = sklearn.datasets.load_svmlight_file('./dataset/satimage.scale.t')"
   ]
  },
  {
   "cell_type": "markdown",
   "metadata": {},
   "source": [
    "Convert sparse matrices to dense matrices:"
   ]
  },
  {
   "cell_type": "code",
   "execution_count": 12,
   "metadata": {},
   "outputs": [
    {
     "name": "stdout",
     "output_type": "stream",
     "text": [
      "[[ 0.          0.127273   -0.0952381  ... -0.126214   -0.431579\n",
      "  -0.484375  ]\n",
      " [ 0.         -0.0909091  -0.571429   ... -0.126214   -0.494737\n",
      "  -0.609375  ]\n",
      " [ 0.5625      0.490909    0.333333   ...  0.00970874 -0.326316\n",
      "  -0.4375    ]\n",
      " ...\n",
      " [ 0.78125     0.545455    0.571429   ...  0.417476    0.136842\n",
      "  -0.0625    ]\n",
      " [ 0.3125      0.254545    0.142857   ... -0.223301   -0.0947368\n",
      "  -0.203125  ]\n",
      " [ 0.125       0.0545455  -0.190476   ...  0.0873786  -0.178947\n",
      "  -0.34375   ]]\n"
     ]
    }
   ],
   "source": [
    "x_train = np.asarray(x_train.todense())\n",
    "print(x_train)\n",
    "x_val = x_val.todense()\n",
    "x_test = x_test.todense()"
   ]
  },
  {
   "cell_type": "markdown",
   "metadata": {},
   "source": [
    "Separate data points that belong to class 4 or 6."
   ]
  },
  {
   "cell_type": "code",
   "execution_count": 13,
   "metadata": {},
   "outputs": [],
   "source": [
    "x_train = x_train[np.in1d(y_train, (4, 6))]\n",
    "y_train = y_train[np.in1d(y_train, (4, 6))]\n",
    "y_train = y_train.replace\n",
    "\n",
    "# x_train = x_train[(y_train == 4) | (y_train == 6)]\n",
    "# y_train = y_train[(y_train == 4) | (y_train == 6)]"
   ]
  },
  {
   "cell_type": "code",
   "execution_count": 14,
   "metadata": {},
   "outputs": [],
   "source": [
    "K = (y_train.reshape(-1, 1) * x_train)\n",
    "# print(x_train)\n",
    "# print(y_train)\n",
    "# print(k)\n",
    "\n",
    "qc = K @ K.T\n",
    "# print(qc)"
   ]
  },
  {
   "cell_type": "code",
   "execution_count": 15,
   "metadata": {},
   "outputs": [
    {
     "name": "stdout",
     "output_type": "stream",
     "text": [
      "(847, 847)\n",
      "(847, 1)\n",
      "(1694, 847)\n",
      "(1694, 1)\n",
      "(1, 847)\n",
      "(1, 1)\n",
      "(36, 1)\n"
     ]
    }
   ],
   "source": [
    "n = x_train.shape[0]\n",
    "C = 1\n",
    "\n",
    "P = cvxopt.matrix(qc.T)  # FIXME: To transpose or not to transpose...\n",
    "q = cvxopt.matrix(-1 * np.ones(n))\n",
    "G = cvxopt.matrix(np.concatenate((-1 * np.identity(n), np.identity(n)), axis=0))\n",
    "# G = cvxopt.matrix(np.concatenate((-1*np.identity(n_samples), np.identity(n_samples)), axis=0))\n",
    "\n",
    "h = cvxopt.matrix(np.concatenate((-1 * np.zeros(n), C * np.ones(n)), axis=0))\n",
    "A = cvxopt.matrix(1.0 * y_train, (1, n))\n",
    "b = cvxopt.matrix(0.0)\n",
    "for kooft in (P, q, G, h, A, b):\n",
    "    print(f'{kooft.size}')\n",
    "\n",
    "cvxopt.solvers.options['show_progress'] = False\n",
    "solution = cvxopt.solvers.qp(P, q, G, h, A, b)\n",
    "\n",
    "alpha = np.ravel(solution['x']).reshape(-1, 1)\n",
    "\n",
    "S = np.where((alpha > 1e-10) & (alpha <= C))[0]\n",
    "w = K.T[:, S] @ alpha[S]\n",
    "\n",
    "print(w.shape)\n",
    "\n",
    "M = np.where((alpha > 1e-10) & (alpha < C))[0]\n",
    "b = np.mean(y_train[M] - x_train[M, :] @ w)"
   ]
  },
  {
   "cell_type": "code",
   "execution_count": null,
   "metadata": {},
   "outputs": [],
   "source": []
  },
  {
   "cell_type": "code",
   "execution_count": 16,
   "metadata": {},
   "outputs": [],
   "source": [
    "\n",
    "# import cvxopt\n",
    "# import numpy as np\n",
    "\n",
    "# # from .base import BaseModel\n",
    "\n",
    "\n",
    "# class SVMSoftMargin():\n",
    "\n",
    "#     def __init__(self, C: float):\n",
    "#         self.C = C\n",
    "#         self._w = None\n",
    "#         self._b = None\n",
    "\n",
    "#     def train(self, X: np.ndarray, y: np.ndarray):\n",
    "#         n_samples, _ = X.shape\n",
    "#         # compute inputs for cvxopt solver\n",
    "#         K = (X * y[:, np.newaxis]).T\n",
    "#         P = cvxopt.matrix(K.T.dot(K)) # P has shape n*n\n",
    "#         q = cvxopt.matrix(-1 * np.ones(n_samples)) # q has shape n*1\n",
    "#         G = cvxopt.matrix(np.concatenate((-1*np.identity(n_samples), np.identity(n_samples)), axis=0))\n",
    "#         h = cvxopt.matrix(np.concatenate((np.zeros(n_samples), self.C*np.ones(n_samples)), axis=0))\n",
    "#         A = cvxopt.matrix(1.0 * y, (1, n_samples))\n",
    "#         b = cvxopt.matrix(0.0)\n",
    "#         # solve quadratic programming\n",
    "#         for kooft in (P, q, G, h, A, b):\n",
    "#             print(f'{kooft.size})')\n",
    "#         cvxopt.solvers.options['show_progress'] = False\n",
    "#         solution = cvxopt.solvers.qp(P, q, G, h, A, b)\n",
    "#         _lambda = np.ravel(solution['x'])\n",
    "#         # find support vectors\n",
    "#         S = np.where((_lambda > 1e-10) & (_lambda <= self.C))[0]\n",
    "#         self._w = K[:, S].dot(_lambda[S])\n",
    "#         M = np.where((_lambda > 1e-10) & (_lambda < self.C))[0]\n",
    "#         self._b = np.mean(y[M] - X[M, :].dot(self._w))\n",
    "\n",
    "#     def predict(self, X: np.ndarray) -> np.ndarray:\n",
    "#         \"\"\"\n",
    "#         Return +1 for positive class and -1 for negative class.\n",
    "#         \"\"\"\n",
    "#         results = np.sign(X.dot(self._w) + self._b)\n",
    "#         results[results == 0] = 1\n",
    "#         return results"
   ]
  },
  {
   "cell_type": "code",
   "execution_count": 17,
   "metadata": {},
   "outputs": [
    {
     "ename": "NameError",
     "evalue": "name 'SVMSoftMargin' is not defined",
     "output_type": "error",
     "traceback": [
      "\u001b[0;31m---------------------------------------------------------------------------\u001b[0m",
      "\u001b[0;31mNameError\u001b[0m                                 Traceback (most recent call last)",
      "Cell \u001b[0;32mIn[17], line 1\u001b[0m\n\u001b[0;32m----> 1\u001b[0m svm \u001b[38;5;241m=\u001b[39m SVMSoftMargin(C\u001b[38;5;241m=\u001b[39m\u001b[38;5;241m1e-5\u001b[39m)\n\u001b[1;32m      2\u001b[0m svm\u001b[38;5;241m.\u001b[39mtrain(x_train, y_train)\n",
      "\u001b[0;31mNameError\u001b[0m: name 'SVMSoftMargin' is not defined"
     ]
    }
   ],
   "source": [
    "svm = SVMSoftMargin(C=1e-5)\n",
    "svm.train(x_train, y_train)\n"
   ]
  },
  {
   "cell_type": "code",
   "execution_count": null,
   "metadata": {},
   "outputs": [],
   "source": []
  }
 ],
 "metadata": {
  "kernelspec": {
   "display_name": "base",
   "language": "python",
   "name": "python3"
  },
  "language_info": {
   "codemirror_mode": {
    "name": "ipython",
    "version": 3
   },
   "file_extension": ".py",
   "mimetype": "text/x-python",
   "name": "python",
   "nbconvert_exporter": "python",
   "pygments_lexer": "ipython3",
   "version": "3.11.5"
  }
 },
 "nbformat": 4,
 "nbformat_minor": 2
}
